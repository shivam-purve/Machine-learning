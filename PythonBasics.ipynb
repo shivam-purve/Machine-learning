{
  "nbformat": 4,
  "nbformat_minor": 0,
  "metadata": {
    "colab": {
      "provenance": [],
      "authorship_tag": "ABX9TyPXvh4p82zOAEbKHki/C6pU",
      "include_colab_link": true
    },
    "kernelspec": {
      "name": "python3",
      "display_name": "Python 3"
    },
    "language_info": {
      "name": "python"
    }
  },
  "cells": [
    {
      "cell_type": "markdown",
      "metadata": {
        "id": "view-in-github",
        "colab_type": "text"
      },
      "source": [
        "<a href=\"https://colab.research.google.com/github/shivam-purve/Machine-learning/blob/main/PythonBasics.ipynb\" target=\"_parent\"><img src=\"https://colab.research.google.com/assets/colab-badge.svg\" alt=\"Open In Colab\"/></a>"
      ]
    },
    {
      "cell_type": "code",
      "execution_count": null,
      "metadata": {
        "id": "wISzNzdb_7E8"
      },
      "outputs": [],
      "source": []
    },
    {
      "cell_type": "markdown",
      "source": [
        "#Python is main programming language used in ML"
      ],
      "metadata": {
        "id": "qmWmksSMOz0d"
      }
    },
    {
      "cell_type": "code",
      "source": [
        "print(8+3)"
      ],
      "metadata": {
        "colab": {
          "base_uri": "https://localhost:8080/"
        },
        "id": "jO85C35UQVsE",
        "outputId": "3e636b59-a814-4431-99a0-6fbac603d910"
      },
      "execution_count": 12,
      "outputs": [
        {
          "output_type": "stream",
          "name": "stdout",
          "text": [
            "11\n"
          ]
        }
      ]
    },
    {
      "cell_type": "code",
      "source": [],
      "metadata": {
        "id": "KgPDPw_XO6K-"
      },
      "execution_count": null,
      "outputs": []
    },
    {
      "cell_type": "markdown",
      "source": [
        "Print function"
      ],
      "metadata": {
        "id": "NtDS4Sl2POOx"
      }
    },
    {
      "cell_type": "code",
      "source": [
        "print('Machine Learning')"
      ],
      "metadata": {
        "colab": {
          "base_uri": "https://localhost:8080/"
        },
        "id": "nUf4JBKGPQQ-",
        "outputId": "9c52c381-ea3c-4108-89a1-ce918b66ccf4"
      },
      "execution_count": 9,
      "outputs": [
        {
          "output_type": "stream",
          "name": "stdout",
          "text": [
            "Machine Learning\n"
          ]
        }
      ]
    },
    {
      "cell_type": "code",
      "source": [
        "print('Machine Learning' + ' Projects')"
      ],
      "metadata": {
        "colab": {
          "base_uri": "https://localhost:8080/"
        },
        "id": "ac8qVXh7PeE2",
        "outputId": "125573f3-555c-4e2b-b434-6e0cb6079f43"
      },
      "execution_count": 11,
      "outputs": [
        {
          "output_type": "stream",
          "name": "stdout",
          "text": [
            "Machine Learning Projects\n"
          ]
        }
      ]
    },
    {
      "cell_type": "markdown",
      "source": [
        "#basics Datatypes\n",
        "\n",
        "1.   integer-int\n",
        "2.   decimal-float\n",
        "3.  string-str\n",
        "\n"
      ],
      "metadata": {
        "id": "iA1dnRPtQccm"
      }
    },
    {
      "cell_type": "code",
      "source": [
        "type(8)"
      ],
      "metadata": {
        "colab": {
          "base_uri": "https://localhost:8080/"
        },
        "id": "uYfn_-dgQgpP",
        "outputId": "b272ea35-90ba-4f58-8235-9f70f62986b6"
      },
      "execution_count": 13,
      "outputs": [
        {
          "output_type": "execute_result",
          "data": {
            "text/plain": [
              "int"
            ]
          },
          "metadata": {},
          "execution_count": 13
        }
      ]
    },
    {
      "cell_type": "code",
      "source": [
        "type('Shivam')"
      ],
      "metadata": {
        "colab": {
          "base_uri": "https://localhost:8080/"
        },
        "id": "uWb08MaBQ2AX",
        "outputId": "77da4670-13da-4a1d-bf04-f16cf0b821e8"
      },
      "execution_count": 14,
      "outputs": [
        {
          "output_type": "execute_result",
          "data": {
            "text/plain": [
              "str"
            ]
          },
          "metadata": {},
          "execution_count": 14
        }
      ]
    },
    {
      "cell_type": "code",
      "source": [
        "type(6.4)"
      ],
      "metadata": {
        "colab": {
          "base_uri": "https://localhost:8080/"
        },
        "id": "zVDjK8-1RMjA",
        "outputId": "07d675f4-5192-4e8d-df08-07e1af4735c2"
      },
      "execution_count": 15,
      "outputs": [
        {
          "output_type": "execute_result",
          "data": {
            "text/plain": [
              "float"
            ]
          },
          "metadata": {},
          "execution_count": 15
        }
      ]
    },
    {
      "cell_type": "markdown",
      "source": [],
      "metadata": {
        "id": "ODQmwHJrRTBw"
      }
    },
    {
      "cell_type": "markdown",
      "source": [
        "#Constants or Variables"
      ],
      "metadata": {
        "id": "B6dG7uuaTqVs"
      }
    },
    {
      "cell_type": "code",
      "source": [
        "superhero = \"Ironman\"\n",
        "print(superhero)"
      ],
      "metadata": {
        "colab": {
          "base_uri": "https://localhost:8080/"
        },
        "id": "3DaYJ1F-Tuzv",
        "outputId": "b8d5a112-cbdc-47c5-cc26-d37cc411eeb8"
      },
      "execution_count": 1,
      "outputs": [
        {
          "output_type": "stream",
          "name": "stdout",
          "text": [
            "Ironman\n"
          ]
        }
      ]
    },
    {
      "cell_type": "code",
      "source": [
        "marvel_superhero = \"Ironman\"\n",
        "print(marvel_superhero)"
      ],
      "metadata": {
        "colab": {
          "base_uri": "https://localhost:8080/"
        },
        "id": "MzZS4dOIUX0E",
        "outputId": "a819b57f-14a7-48ce-a96a-dd1f0f8c0fab"
      },
      "execution_count": 2,
      "outputs": [
        {
          "output_type": "stream",
          "name": "stdout",
          "text": [
            "Ironman\n"
          ]
        }
      ]
    },
    {
      "cell_type": "code",
      "source": [
        "marvel_superhero = \"Thor\"\n",
        "print(marvel_superhero)"
      ],
      "metadata": {
        "colab": {
          "base_uri": "https://localhost:8080/"
        },
        "id": "HjBrbjb4Uf2H",
        "outputId": "c6515cc7-1d1c-4d27-9bd4-828dc0fc605a"
      },
      "execution_count": 3,
      "outputs": [
        {
          "output_type": "stream",
          "name": "stdout",
          "text": [
            "Thor\n"
          ]
        }
      ]
    },
    {
      "cell_type": "code",
      "source": [
        "hero1, hero2, hero3 = \"Ironman\",\"Thor\",\"Captain America\"\n",
        "print(hero1)\n",
        "print(hero2)\n",
        "print(hero3)"
      ],
      "metadata": {
        "colab": {
          "base_uri": "https://localhost:8080/"
        },
        "id": "HF7cvSy8UuW1",
        "outputId": "a29691cf-4b1f-4cd2-892b-928d6bd27151"
      },
      "execution_count": 4,
      "outputs": [
        {
          "output_type": "stream",
          "name": "stdout",
          "text": [
            "Ironman\n",
            "Thor\n",
            "Captain America\n"
          ]
        }
      ]
    },
    {
      "cell_type": "code",
      "source": [
        "x = y = z = 25\n",
        "print(x)\n",
        "print(y)\n",
        "print(z)"
      ],
      "metadata": {
        "colab": {
          "base_uri": "https://localhost:8080/"
        },
        "id": "-5Gq_ISdVTAU",
        "outputId": "98dac947-ac35-42fe-98e2-4e7451212a0c"
      },
      "execution_count": 5,
      "outputs": [
        {
          "output_type": "stream",
          "name": "stdout",
          "text": [
            "25\n",
            "25\n",
            "25\n"
          ]
        }
      ]
    },
    {
      "cell_type": "markdown",
      "source": [
        "Input Function"
      ],
      "metadata": {
        "id": "h8gg9SVZVjNF"
      }
    },
    {
      "cell_type": "code",
      "source": [
        "number_1 = input(\"enter the first number: \")\n",
        "number_2 = input(\"enter the second number: \")\n",
        "print(\"First Number: \", number_1)\n",
        "print(\"Second Number: \", number_2)\n",
        "sum = number_1 + number_2\n",
        "print(\"sum of numbers: \", sum)"
      ],
      "metadata": {
        "colab": {
          "base_uri": "https://localhost:8080/"
        },
        "id": "vAI86jE9VlHg",
        "outputId": "79750909-cb7a-44dc-8815-f186729a1837"
      },
      "execution_count": 6,
      "outputs": [
        {
          "output_type": "stream",
          "name": "stdout",
          "text": [
            "enter the first number: 23\n",
            "enter the second number: 45\n",
            "First Number:  23\n",
            "Second Number:  45\n",
            "sum of numbers:  2345\n"
          ]
        }
      ]
    },
    {
      "cell_type": "code",
      "source": [
        "num_1 = int(input(\"enter first number: \"))\n",
        "num_2 = int(input(\"enter second number: \"))\n",
        "print(\"First Number: \", num_1)\n",
        "print(\"Second Number: \", num_2)\n",
        "sum = num_1 + num_2\n",
        "print(\"sum of numbers: \", sum)"
      ],
      "metadata": {
        "colab": {
          "base_uri": "https://localhost:8080/"
        },
        "id": "G0o8HPesXXpO",
        "outputId": "c89adf23-f96f-4c7e-ec96-ba0fc62816d6"
      },
      "execution_count": 7,
      "outputs": [
        {
          "output_type": "stream",
          "name": "stdout",
          "text": [
            "enter first number: 23\n",
            "enter second number: 45\n",
            "First Number:  23\n",
            "Second Number:  45\n",
            "sum of numbers:  68\n"
          ]
        }
      ]
    },
    {
      "cell_type": "code",
      "source": [
        "#changing data typein python\n",
        "\n",
        "num = 5\n",
        "print(type(num))\n",
        "print(float(num))\n",
        "print(type(num))"
      ],
      "metadata": {
        "colab": {
          "base_uri": "https://localhost:8080/"
        },
        "id": "zMeyJQyuX-vp",
        "outputId": "fefa303b-a022-4ed8-bb96-d3d12fc62bc5"
      },
      "execution_count": 11,
      "outputs": [
        {
          "output_type": "stream",
          "name": "stdout",
          "text": [
            "<class 'int'>\n",
            "5.0\n",
            "<class 'int'>\n"
          ]
        }
      ]
    },
    {
      "cell_type": "markdown",
      "source": [],
      "metadata": {
        "id": "Pw6zGj0tZeVQ"
      }
    },
    {
      "cell_type": "markdown",
      "source": [
        "#Basic data Types\n",
        "\n",
        "1.integer\n",
        "2.Floating point\n",
        "3.complex\n",
        "4.Boolean\n",
        "5.String"
      ],
      "metadata": {
        "id": "mqJsNuNNZmwX"
      }
    },
    {
      "cell_type": "code",
      "source": [
        "#integer\n",
        "\n",
        "a = 8\n",
        "print(a)\n",
        "type(a)"
      ],
      "metadata": {
        "colab": {
          "base_uri": "https://localhost:8080/"
        },
        "id": "5oDq1UP1Zpj3",
        "outputId": "792299b2-0a04-4cf1-eac5-7faf61c273a6"
      },
      "execution_count": 12,
      "outputs": [
        {
          "output_type": "stream",
          "name": "stdout",
          "text": [
            "8\n"
          ]
        },
        {
          "output_type": "execute_result",
          "data": {
            "text/plain": [
              "int"
            ]
          },
          "metadata": {},
          "execution_count": 12
        }
      ]
    },
    {
      "cell_type": "code",
      "source": [
        "#floating point\n",
        "\n",
        "b = 8.5\n",
        "print(b)\n",
        "type(b)"
      ],
      "metadata": {
        "colab": {
          "base_uri": "https://localhost:8080/"
        },
        "id": "8cYBj0Cyaik1",
        "outputId": "a0541b2f-67fd-4040-f1cf-a682c89d8951"
      },
      "execution_count": 13,
      "outputs": [
        {
          "output_type": "stream",
          "name": "stdout",
          "text": [
            "8.5\n"
          ]
        },
        {
          "output_type": "execute_result",
          "data": {
            "text/plain": [
              "float"
            ]
          },
          "metadata": {},
          "execution_count": 13
        }
      ]
    },
    {
      "cell_type": "code",
      "source": [
        "#complex number\n",
        "\n",
        "c = 1 + 3j\n",
        "print(c)\n",
        "type(c)"
      ],
      "metadata": {
        "colab": {
          "base_uri": "https://localhost:8080/"
        },
        "id": "48mdszFraqiP",
        "outputId": "c814a302-40b8-4e80-a919-2e13a62819b9"
      },
      "execution_count": 14,
      "outputs": [
        {
          "output_type": "stream",
          "name": "stdout",
          "text": [
            "(1+3j)\n"
          ]
        },
        {
          "output_type": "execute_result",
          "data": {
            "text/plain": [
              "complex"
            ]
          },
          "metadata": {},
          "execution_count": 14
        }
      ]
    },
    {
      "cell_type": "markdown",
      "source": [
        "#conversion of data types"
      ],
      "metadata": {
        "id": "q1kcVMs5a1SO"
      }
    },
    {
      "cell_type": "code",
      "source": [
        "# int to float\n",
        "a = 10\n",
        "print(a)\n",
        "type(a)\n",
        "y = float(a)\n",
        "print(y)\n",
        "type(y)"
      ],
      "metadata": {
        "colab": {
          "base_uri": "https://localhost:8080/"
        },
        "id": "VCxVFbaSa32u",
        "outputId": "1154268d-3da8-4d56-aa1d-a604abdc25dd"
      },
      "execution_count": 16,
      "outputs": [
        {
          "output_type": "stream",
          "name": "stdout",
          "text": [
            "10\n",
            "10.0\n"
          ]
        },
        {
          "output_type": "execute_result",
          "data": {
            "text/plain": [
              "float"
            ]
          },
          "metadata": {},
          "execution_count": 16
        }
      ]
    },
    {
      "cell_type": "code",
      "source": [
        "#float to int\n",
        "\n",
        "x = 12.6\n",
        "print(x)\n",
        "y = int(x)\n",
        "print(y)\n",
        "type(y)"
      ],
      "metadata": {
        "colab": {
          "base_uri": "https://localhost:8080/"
        },
        "id": "me2FTUIpbm4A",
        "outputId": "d8a631a0-df0a-44a4-f230-ddf633c118a0"
      },
      "execution_count": 19,
      "outputs": [
        {
          "output_type": "stream",
          "name": "stdout",
          "text": [
            "12.6\n",
            "12\n"
          ]
        },
        {
          "output_type": "execute_result",
          "data": {
            "text/plain": [
              "int"
            ]
          },
          "metadata": {},
          "execution_count": 19
        }
      ]
    },
    {
      "cell_type": "code",
      "source": [
        "#boolean\n",
        "\n",
        "a = True\n",
        "print(a)\n",
        "\n",
        "b = False\n",
        "print(b)\n",
        "type(b)"
      ],
      "metadata": {
        "colab": {
          "base_uri": "https://localhost:8080/"
        },
        "id": "hkG5qm_IcTFA",
        "outputId": "180fc20a-4e9e-417f-ff4b-5199a17ad286"
      },
      "execution_count": 22,
      "outputs": [
        {
          "output_type": "stream",
          "name": "stdout",
          "text": [
            "True\n",
            "False\n"
          ]
        },
        {
          "output_type": "execute_result",
          "data": {
            "text/plain": [
              "bool"
            ]
          },
          "metadata": {},
          "execution_count": 22
        }
      ]
    },
    {
      "cell_type": "code",
      "source": [
        "#uses of boolean\n",
        "\n",
        "a = 7 < 3\n",
        "print(a)\n",
        "type(a)"
      ],
      "metadata": {
        "colab": {
          "base_uri": "https://localhost:8080/"
        },
        "id": "d6kg4zcOc505",
        "outputId": "72af86d3-d33d-4c11-8b05-c57bc37b52e2"
      },
      "execution_count": 24,
      "outputs": [
        {
          "output_type": "stream",
          "name": "stdout",
          "text": [
            "False\n"
          ]
        },
        {
          "output_type": "execute_result",
          "data": {
            "text/plain": [
              "bool"
            ]
          },
          "metadata": {},
          "execution_count": 24
        }
      ]
    },
    {
      "cell_type": "code",
      "source": [
        "# string\n",
        "print(\"Machine Learning\")  #using double quote\n",
        "print('Machine Learning')  #using single quote"
      ],
      "metadata": {
        "colab": {
          "base_uri": "https://localhost:8080/"
        },
        "id": "9nQKumBzeQVD",
        "outputId": "51bf2cbe-af90-44b7-9bd9-ca639ff7521a"
      },
      "execution_count": 25,
      "outputs": [
        {
          "output_type": "stream",
          "name": "stdout",
          "text": [
            "Machine Learning\n",
            "Machine Learning\n"
          ]
        }
      ]
    },
    {
      "cell_type": "code",
      "source": [
        "my_string = 'Machine Learning'\n",
        "print(my_string)\n",
        "type(my_string)"
      ],
      "metadata": {
        "colab": {
          "base_uri": "https://localhost:8080/"
        },
        "id": "sQT3qW0DfCv4",
        "outputId": "ca029b68-24ee-496a-9961-ff4325b394f6"
      },
      "execution_count": 26,
      "outputs": [
        {
          "output_type": "stream",
          "name": "stdout",
          "text": [
            "Machine Learning\n"
          ]
        },
        {
          "output_type": "execute_result",
          "data": {
            "text/plain": [
              "str"
            ]
          },
          "metadata": {},
          "execution_count": 26
        }
      ]
    },
    {
      "cell_type": "code",
      "source": [
        "print(\"Hello\"*5)"
      ],
      "metadata": {
        "colab": {
          "base_uri": "https://localhost:8080/"
        },
        "id": "sDNDPHbKfgRB",
        "outputId": "afcd975d-a188-4495-e940-f834a7f7ceea"
      },
      "execution_count": 27,
      "outputs": [
        {
          "output_type": "stream",
          "name": "stdout",
          "text": [
            "HelloHelloHelloHelloHello\n"
          ]
        }
      ]
    },
    {
      "cell_type": "code",
      "source": [
        "#slicing\n",
        "my_str = \"Programming\"\n",
        "print(my_str[1:5])"
      ],
      "metadata": {
        "colab": {
          "base_uri": "https://localhost:8080/"
        },
        "id": "FV9YWT42fwZ0",
        "outputId": "637b4cda-2134-496b-c295-cedb04e9bd9e"
      },
      "execution_count": 28,
      "outputs": [
        {
          "output_type": "stream",
          "name": "stdout",
          "text": [
            "rogr\n"
          ]
        }
      ]
    },
    {
      "cell_type": "code",
      "source": [
        "#slicing with steps\n",
        "\n",
        "my_str = \"programming\"\n",
        "print(my_str[0:10:2])"
      ],
      "metadata": {
        "colab": {
          "base_uri": "https://localhost:8080/"
        },
        "id": "sEbmU4ArhqXJ",
        "outputId": "192486f5-c615-4017-f013-448007cc992f"
      },
      "execution_count": 29,
      "outputs": [
        {
          "output_type": "stream",
          "name": "stdout",
          "text": [
            "pormi\n"
          ]
        }
      ]
    },
    {
      "cell_type": "code",
      "source": [
        "#string concatenation\n",
        "\n",
        "word1 = 'Machine'\n",
        "word2 = ' Learning'\n",
        "print(word1 + word2)\n"
      ],
      "metadata": {
        "colab": {
          "base_uri": "https://localhost:8080/"
        },
        "id": "xpVGkmdbh90h",
        "outputId": "0d530600-f8c3-4403-c165-95f7f14607e4"
      },
      "execution_count": 30,
      "outputs": [
        {
          "output_type": "stream",
          "name": "stdout",
          "text": [
            "Machine Learning\n"
          ]
        }
      ]
    },
    {
      "cell_type": "markdown",
      "source": [
        "# objects in python\n",
        "1.immutable object:-\n",
        "(i) int\n",
        "(ii)Float\n",
        "(iii) bool\n",
        "(iv) string\n",
        "(v) Tuple\n",
        "\n",
        "2.mutable objects\n",
        "\n",
        "(i)list\n",
        "(ii)set\n",
        "(iii)Dictionary"
      ],
      "metadata": {
        "id": "hEHrVDqMjkpW"
      }
    },
    {
      "cell_type": "code",
      "source": [
        "# list should be included in square brackets\n",
        "\n",
        "my_list = [1,2,3,4,5]\n",
        "print(my_list)\n",
        "type(my_list)"
      ],
      "metadata": {
        "colab": {
          "base_uri": "https://localhost:8080/"
        },
        "id": "wE7LC1qCkGi7",
        "outputId": "c14c149d-16f5-44e0-e13a-8a47fe31c99c"
      },
      "execution_count": 31,
      "outputs": [
        {
          "output_type": "stream",
          "name": "stdout",
          "text": [
            "[1, 2, 3, 4, 5]\n"
          ]
        },
        {
          "output_type": "execute_result",
          "data": {
            "text/plain": [
              "list"
            ]
          },
          "metadata": {},
          "execution_count": 31
        }
      ]
    },
    {
      "cell_type": "code",
      "source": [
        "# list can have multiple data types\n",
        "my_list = [2,3,4.8,'English',True]\n",
        "print(my_list)"
      ],
      "metadata": {
        "colab": {
          "base_uri": "https://localhost:8080/"
        },
        "id": "Y-9pnc5jknr8",
        "outputId": "54efa567-a3a7-47aa-9420-ffe809e7d1b7"
      },
      "execution_count": 32,
      "outputs": [
        {
          "output_type": "stream",
          "name": "stdout",
          "text": [
            "[2, 3, 4.8, 'English', True]\n"
          ]
        }
      ]
    },
    {
      "cell_type": "code",
      "source": [
        "# list are mutable\n",
        "#adding elememnts\n",
        "\n",
        "my_list = [2,3,4.8,'English',True]\n",
        "my_list.append(6)\n",
        "my_list.append(\"Shivam\")\n",
        "print(my_list)\n",
        "print(my_list[0:3]) #will print from index 0 to 2"
      ],
      "metadata": {
        "colab": {
          "base_uri": "https://localhost:8080/"
        },
        "id": "3FV_3oO0k2DB",
        "outputId": "df78c3cb-9ff1-4733-bfeb-939748fd9563"
      },
      "execution_count": 35,
      "outputs": [
        {
          "output_type": "stream",
          "name": "stdout",
          "text": [
            "[2, 3, 4.8, 'English', True, 6, 'Shivam']\n",
            "[2, 3, 4.8]\n"
          ]
        }
      ]
    },
    {
      "cell_type": "code",
      "source": [
        "#list allows duplicate values\n",
        "\n",
        "list = [1,2,3,4,2,1,2]\n",
        "print(list)\n",
        "print(len(list))\n",
        "\n",
        "\n",
        "#iniatiating empty list\n",
        "\n",
        "list_1 = []\n",
        "print(list_1)\n",
        "\n",
        "list_1.append(2)\n",
        "print(list_1)"
      ],
      "metadata": {
        "colab": {
          "base_uri": "https://localhost:8080/"
        },
        "id": "Zp8ltIC9nG_e",
        "outputId": "e7885cdf-400d-4d35-dd38-323dcde31080"
      },
      "execution_count": 39,
      "outputs": [
        {
          "output_type": "stream",
          "name": "stdout",
          "text": [
            "[1, 2, 3, 4, 2, 1, 2]\n",
            "7\n",
            "[]\n",
            "[2]\n"
          ]
        }
      ]
    },
    {
      "cell_type": "code",
      "source": [
        "list_2 = [2,3,4,6.8,'Shivu']\n",
        "print(list_2)\n",
        "\n",
        "del list_2[2]\n",
        "print(list_2)"
      ],
      "metadata": {
        "colab": {
          "base_uri": "https://localhost:8080/"
        },
        "id": "E2YK6LA6v-du",
        "outputId": "9212bbbb-0214-453d-ff1f-f09797524d8d"
      },
      "execution_count": 40,
      "outputs": [
        {
          "output_type": "stream",
          "name": "stdout",
          "text": [
            "[2, 3, 4, 6.8, 'Shivu']\n",
            "[2, 3, 6.8, 'Shivu']\n"
          ]
        }
      ]
    },
    {
      "cell_type": "code",
      "source": [
        "#join to lists\n",
        "\n",
        "list_3 = [1,2,3,4,5]\n",
        "list_4 = [6,7,8,9,10]\n",
        "\n",
        "list_5 = list_3 + list_4\n",
        "print(list_5)"
      ],
      "metadata": {
        "colab": {
          "base_uri": "https://localhost:8080/"
        },
        "id": "q65vKjsiwfzb",
        "outputId": "5dfdbbe2-46e0-45c1-c5eb-739abbd6d3a6"
      },
      "execution_count": 41,
      "outputs": [
        {
          "output_type": "stream",
          "name": "stdout",
          "text": [
            "[1, 2, 3, 4, 5, 6, 7, 8, 9, 10]\n"
          ]
        }
      ]
    },
    {
      "cell_type": "markdown",
      "source": [
        "# TUPLE"
      ],
      "metadata": {
        "id": "RSZS-TDTxdXY"
      }
    },
    {
      "cell_type": "code",
      "source": [
        "tuple_1 = (2,3,4,5)\n",
        "print(tuple_1)\n",
        "type(tuple_1)"
      ],
      "metadata": {
        "colab": {
          "base_uri": "https://localhost:8080/"
        },
        "id": "2fz6drT3xfmy",
        "outputId": "b4b6beae-113c-4181-9ad0-c67971328afa"
      },
      "execution_count": 43,
      "outputs": [
        {
          "output_type": "stream",
          "name": "stdout",
          "text": [
            "(2, 3, 4, 5)\n"
          ]
        },
        {
          "output_type": "execute_result",
          "data": {
            "text/plain": [
              "tuple"
            ]
          },
          "metadata": {},
          "execution_count": 43
        }
      ]
    },
    {
      "cell_type": "code",
      "source": [
        "#tuple allows multiple data types\n",
        "\n",
        "tuple_2 = (2,3,4,5,'Machine Learning',False)\n",
        "print(tuple_2)"
      ],
      "metadata": {
        "colab": {
          "base_uri": "https://localhost:8080/"
        },
        "id": "D1P9cbm6xu05",
        "outputId": "ccce2112-7596-4329-8b97-afd26a2d60de"
      },
      "execution_count": 44,
      "outputs": [
        {
          "output_type": "stream",
          "name": "stdout",
          "text": [
            "(2, 3, 4, 5, 'Machine Learning', False)\n"
          ]
        }
      ]
    },
    {
      "cell_type": "code",
      "source": [
        "#convert list to tuple\n",
        "\n",
        "my_list = [3,4,5,6,3,4]\n",
        "print(my_list)\n",
        "my_tuple = tuple(my_list)\n",
        "print(my_tuple)"
      ],
      "metadata": {
        "colab": {
          "base_uri": "https://localhost:8080/"
        },
        "id": "ohGx96w0yIv2",
        "outputId": "fabc3ebe-d3d3-4618-8e8c-f3225599b25e"
      },
      "execution_count": 55,
      "outputs": [
        {
          "output_type": "stream",
          "name": "stdout",
          "text": [
            "[3, 4, 5, 6, 3, 4]\n",
            "(3, 4, 5, 6, 3, 4)\n"
          ]
        }
      ]
    },
    {
      "cell_type": "code",
      "source": [
        "print(my_tuple[0:3])"
      ],
      "metadata": {
        "colab": {
          "base_uri": "https://localhost:8080/"
        },
        "id": "bmgVwr7YyzSG",
        "outputId": "1aec79f9-d994-48a3-d8ed-5a6a82d4bbd6"
      },
      "execution_count": 46,
      "outputs": [
        {
          "output_type": "stream",
          "name": "stdout",
          "text": [
            "(3, 4, 5)\n"
          ]
        }
      ]
    },
    {
      "cell_type": "markdown",
      "source": [
        "#tuples are immutable"
      ],
      "metadata": {
        "id": "yj0EWbZUzNf-"
      }
    },
    {
      "cell_type": "code",
      "source": [
        "my_tuple.append(6) #will throw error as tupple values cant change\n"
      ],
      "metadata": {
        "colab": {
          "base_uri": "https://localhost:8080/",
          "height": 158
        },
        "id": "iu8Zn5cuzP15",
        "outputId": "153ff6c2-f9de-4173-cdea-9c06f521210a"
      },
      "execution_count": 48,
      "outputs": [
        {
          "output_type": "error",
          "ename": "AttributeError",
          "evalue": "'tuple' object has no attribute 'append'",
          "traceback": [
            "\u001b[0;31m---------------------------------------------------------------------------\u001b[0m",
            "\u001b[0;31mAttributeError\u001b[0m                            Traceback (most recent call last)",
            "\u001b[0;32m/tmp/ipython-input-3301202945.py\u001b[0m in \u001b[0;36m<cell line: 0>\u001b[0;34m()\u001b[0m\n\u001b[0;32m----> 1\u001b[0;31m \u001b[0mmy_tuple\u001b[0m\u001b[0;34m.\u001b[0m\u001b[0mappend\u001b[0m\u001b[0;34m(\u001b[0m\u001b[0;36m6\u001b[0m\u001b[0;34m)\u001b[0m \u001b[0;31m#will throw error as tupple values cant change\u001b[0m\u001b[0;34m\u001b[0m\u001b[0;34m\u001b[0m\u001b[0m\n\u001b[0m\u001b[1;32m      2\u001b[0m \u001b[0mprint\u001b[0m\u001b[0;34m(\u001b[0m\u001b[0mlen\u001b[0m\u001b[0;34m(\u001b[0m\u001b[0mmy_tuple\u001b[0m\u001b[0;34m)\u001b[0m\u001b[0;34m)\u001b[0m\u001b[0;34m\u001b[0m\u001b[0;34m\u001b[0m\u001b[0m\n",
            "\u001b[0;31mAttributeError\u001b[0m: 'tuple' object has no attribute 'append'"
          ]
        }
      ]
    },
    {
      "cell_type": "code",
      "source": [
        "print(len(my_tuple))"
      ],
      "metadata": {
        "colab": {
          "base_uri": "https://localhost:8080/"
        },
        "id": "ALsZQUv-zlwC",
        "outputId": "fa974732-f664-4cda-acf6-546893cfd5f9"
      },
      "execution_count": 49,
      "outputs": [
        {
          "output_type": "stream",
          "name": "stdout",
          "text": [
            "4\n"
          ]
        }
      ]
    },
    {
      "cell_type": "code",
      "source": [],
      "metadata": {
        "id": "n2KTCwPCzmdJ"
      },
      "execution_count": null,
      "outputs": []
    },
    {
      "cell_type": "markdown",
      "source": [
        "# SET -should be inclsed in curley bracket"
      ],
      "metadata": {
        "id": "Pg4fvWhoz9Zd"
      }
    },
    {
      "cell_type": "code",
      "source": [
        "my_set = {1,2,3,4}\n",
        "print(my_set)\n",
        "type(my_set)"
      ],
      "metadata": {
        "colab": {
          "base_uri": "https://localhost:8080/"
        },
        "id": "hVNL96zS0CqN",
        "outputId": "c4639e18-4d1b-48e5-9b74-2b72663513fa"
      },
      "execution_count": 50,
      "outputs": [
        {
          "output_type": "stream",
          "name": "stdout",
          "text": [
            "{1, 2, 3, 4}\n"
          ]
        },
        {
          "output_type": "execute_result",
          "data": {
            "text/plain": [
              "set"
            ]
          },
          "metadata": {},
          "execution_count": 50
        }
      ]
    },
    {
      "cell_type": "code",
      "source": [
        "print(my_set[0:3])"
      ],
      "metadata": {
        "colab": {
          "base_uri": "https://localhost:8080/",
          "height": 141
        },
        "id": "pl_i9YLa0Kxe",
        "outputId": "cdc6c335-999f-4490-b466-9d19ade453af"
      },
      "execution_count": 51,
      "outputs": [
        {
          "output_type": "error",
          "ename": "TypeError",
          "evalue": "'set' object is not subscriptable",
          "traceback": [
            "\u001b[0;31m---------------------------------------------------------------------------\u001b[0m",
            "\u001b[0;31mTypeError\u001b[0m                                 Traceback (most recent call last)",
            "\u001b[0;32m/tmp/ipython-input-1228398861.py\u001b[0m in \u001b[0;36m<cell line: 0>\u001b[0;34m()\u001b[0m\n\u001b[0;32m----> 1\u001b[0;31m \u001b[0mprint\u001b[0m\u001b[0;34m(\u001b[0m\u001b[0mmy_set\u001b[0m\u001b[0;34m[\u001b[0m\u001b[0;36m0\u001b[0m\u001b[0;34m:\u001b[0m\u001b[0;36m3\u001b[0m\u001b[0;34m]\u001b[0m\u001b[0;34m)\u001b[0m\u001b[0;34m\u001b[0m\u001b[0;34m\u001b[0m\u001b[0m\n\u001b[0m",
            "\u001b[0;31mTypeError\u001b[0m: 'set' object is not subscriptable"
          ]
        }
      ]
    },
    {
      "cell_type": "code",
      "source": [
        "#convert list to set\n",
        "list_5 = [1,3,4,5]\n",
        "print(list_5)\n",
        "x = set(list_5)\n",
        "print(x)"
      ],
      "metadata": {
        "colab": {
          "base_uri": "https://localhost:8080/"
        },
        "id": "TyorEk8U0-Hs",
        "outputId": "d9f7de0d-ae01-42f5-ddd0-ff4b772ecd89"
      },
      "execution_count": 52,
      "outputs": [
        {
          "output_type": "stream",
          "name": "stdout",
          "text": [
            "[1, 3, 4, 5]\n",
            "{1, 3, 4, 5}\n"
          ]
        }
      ]
    },
    {
      "cell_type": "code",
      "source": [
        "# set doent allows duplicate element\n",
        "\n",
        "set_1 = {2,3,4,5,1,2,3}\n",
        "print(set_1)\n",
        "print(len(set_1))\n"
      ],
      "metadata": {
        "colab": {
          "base_uri": "https://localhost:8080/"
        },
        "id": "953Im4u91Iwl",
        "outputId": "ffcebbcb-d56b-49a1-e0fc-0911767ac692"
      },
      "execution_count": 53,
      "outputs": [
        {
          "output_type": "stream",
          "name": "stdout",
          "text": [
            "{1, 2, 3, 4, 5}\n",
            "5\n"
          ]
        }
      ]
    },
    {
      "cell_type": "code",
      "source": [
        "#dictionary- key and value pair\n",
        "\n",
        "my_dict = {\"name\":\"Shivam\", \"age\":20, \"country\":\"India\"}\n",
        "print(my_dict)\n",
        "type(my_dict)"
      ],
      "metadata": {
        "colab": {
          "base_uri": "https://localhost:8080/"
        },
        "id": "oGugDRSi1lZ8",
        "outputId": "770ee835-823f-401c-fa15-66eed80eba6e"
      },
      "execution_count": 54,
      "outputs": [
        {
          "output_type": "stream",
          "name": "stdout",
          "text": [
            "{'name': 'Shivam', 'age': 20, 'country': 'India'}\n"
          ]
        },
        {
          "output_type": "execute_result",
          "data": {
            "text/plain": [
              "dict"
            ]
          },
          "metadata": {},
          "execution_count": 54
        }
      ]
    },
    {
      "cell_type": "code",
      "source": [
        "print(my_dict['age'])\n",
        "print(my_dict['name'])\n",
        "print(my_dict['country'])"
      ],
      "metadata": {
        "colab": {
          "base_uri": "https://localhost:8080/"
        },
        "id": "V4vNnBF22E83",
        "outputId": "fcea9c3f-8789-40f5-c9d5-2d541d7277e0"
      },
      "execution_count": 56,
      "outputs": [
        {
          "output_type": "stream",
          "name": "stdout",
          "text": [
            "20\n",
            "Shivam\n",
            "India\n"
          ]
        }
      ]
    },
    {
      "cell_type": "markdown",
      "source": [],
      "metadata": {
        "id": "KJnjR4KTG458"
      }
    },
    {
      "cell_type": "code",
      "source": [
        "#dictionary doesnt allow duplicate eleemnt\n",
        "my_dict = {\"name\":\"Shivam\", \"age\":20, \"country\":\"India\", \"name\":\"Shivu\",\"name\":\"shivam\",\"age\":19}\n",
        "print(my_dict)\n"
      ],
      "metadata": {
        "colab": {
          "base_uri": "https://localhost:8080/"
        },
        "id": "gtUL_wvGGnxA",
        "outputId": "52bad142-a96b-4775-aa04-904a58e33d25"
      },
      "execution_count": 4,
      "outputs": [
        {
          "output_type": "stream",
          "name": "stdout",
          "text": [
            "{'name': 'shivam', 'age': 19, 'country': 'India'}\n"
          ]
        }
      ]
    },
    {
      "cell_type": "markdown",
      "source": [
        "#operators in python\n",
        "1.Arithmetic\n",
        "2.logical\n",
        "3.assignment\n",
        "4.identity\n",
        "5.membership\n",
        "6.comparison"
      ],
      "metadata": {
        "id": "m2l1Er8s-qLH"
      }
    },
    {
      "cell_type": "code",
      "source": [
        "#arithmetic operators\n",
        "\n",
        "num_1 = 20\n",
        "num_2 = 10\n",
        "\n",
        "#addition\n",
        "\n",
        "sum = num_1 + num_2\n",
        "print(sum)\n",
        "\n",
        "#difference\n",
        "diff = num_1-num_2\n",
        "print(diff)\n",
        "\n",
        "#Multiplication\n",
        "prod = num_1*num_2\n",
        "print(prod)\n",
        "\n",
        "#division\n",
        "div = num_1/num_2\n",
        "print(div)\n",
        "\n",
        "#exponent\n",
        "\n",
        "exp = num_1**num_2  #20^10\n",
        "print(exp)\n",
        "\n",
        "#modulus operator\n",
        "\n",
        "mod = num_1%num_2\n",
        "print(mod)"
      ],
      "metadata": {
        "colab": {
          "base_uri": "https://localhost:8080/"
        },
        "id": "I-DLn-8B-8PM",
        "outputId": "d6a597ce-3488-4d7f-9cc7-14125d713cac"
      },
      "execution_count": 4,
      "outputs": [
        {
          "output_type": "stream",
          "name": "stdout",
          "text": [
            "30\n",
            "10\n",
            "200\n",
            "2.0\n",
            "10240000000000\n",
            "0\n"
          ]
        }
      ]
    },
    {
      "cell_type": "code",
      "source": [
        "#Assignment operators\n",
        "\n",
        "a = 5\n",
        "print(a)\n",
        "a  += 5  # a = a + 5\n",
        "print(a)\n",
        "\n",
        "b = 3\n",
        "b -= 1\n",
        "print(b)\n",
        "\n",
        "c = 5\n",
        "c *= 2;\n",
        "print(c)\n",
        "\n",
        "d = 6\n",
        "d/= 2\n",
        "print(d)\n",
        "\n",
        "e = 15\n",
        "e %= 4\n",
        "print(e)\n",
        "\n",
        "f = 3\n",
        "f **= 2\n",
        "print(f)"
      ],
      "metadata": {
        "colab": {
          "base_uri": "https://localhost:8080/"
        },
        "id": "X5Rfz5zMAt1P",
        "outputId": "fca4c6d6-e94c-4a14-f5df-4f273ca5c014"
      },
      "execution_count": 7,
      "outputs": [
        {
          "output_type": "stream",
          "name": "stdout",
          "text": [
            "5\n",
            "10\n",
            "2\n",
            "10\n",
            "3.0\n",
            "3\n",
            "9\n"
          ]
        }
      ]
    },
    {
      "cell_type": "code",
      "source": [
        "#comparison operators\n",
        "\n",
        "a = 5\n",
        "b = 2\n",
        "\n",
        "print(a>b)\n",
        "print(a<b)\n",
        "print(a==b)\n",
        "print(a!=b)\n",
        "print(a>=b)\n",
        "print(a<=b)"
      ],
      "metadata": {
        "colab": {
          "base_uri": "https://localhost:8080/"
        },
        "id": "dNuHWyl_DBnC",
        "outputId": "db3dde56-0ab7-4d68-924e-f60651ed812e"
      },
      "execution_count": 8,
      "outputs": [
        {
          "output_type": "stream",
          "name": "stdout",
          "text": [
            "True\n",
            "False\n",
            "False\n",
            "True\n",
            "True\n",
            "False\n"
          ]
        }
      ]
    },
    {
      "cell_type": "code",
      "source": [
        "# Logical operators 1.Logical or 2.Logical Not 3.Logical and\n",
        "\n",
        "a = 10\n",
        "print(a>20 and a>5)\n",
        "print(a>20 or a>5)\n",
        "print(not(a>8 and a>5))\n",
        "\n"
      ],
      "metadata": {
        "colab": {
          "base_uri": "https://localhost:8080/"
        },
        "id": "RY0rSgxfDjW1",
        "outputId": "28b0f5cf-6b50-42bd-a200-c1933cb31001"
      },
      "execution_count": 6,
      "outputs": [
        {
          "output_type": "stream",
          "name": "stdout",
          "text": [
            "False\n",
            "True\n",
            "False\n"
          ]
        }
      ]
    },
    {
      "cell_type": "code",
      "source": [
        "# identity operator\n",
        "\n",
        "x  = 5\n",
        "y = 5\n",
        "print(x is y)\n",
        "\n",
        "x = 5\n",
        "y = 4\n",
        "print(x is not y)"
      ],
      "metadata": {
        "colab": {
          "base_uri": "https://localhost:8080/"
        },
        "id": "Dmh8nGDgEOO4",
        "outputId": "f508cd8c-a403-4dc8-84b0-70c3e288b443"
      },
      "execution_count": 9,
      "outputs": [
        {
          "output_type": "stream",
          "name": "stdout",
          "text": [
            "True\n",
            "True\n"
          ]
        }
      ]
    },
    {
      "cell_type": "code",
      "source": [
        "# Membership operator\n",
        "# 1.in\n",
        "#2.not in\n",
        "\n",
        "a = 5\n",
        "b = 10\n",
        "\n",
        "c = [1,2,3,4,5]\n",
        "print(a in c)\n",
        "print(b in c)\n",
        "print(b not in c)"
      ],
      "metadata": {
        "colab": {
          "base_uri": "https://localhost:8080/"
        },
        "id": "TEP6VDE3EZyy",
        "outputId": "94e21d3a-d691-486d-e78e-0608ec4139f6"
      },
      "execution_count": 10,
      "outputs": [
        {
          "output_type": "stream",
          "name": "stdout",
          "text": [
            "True\n",
            "False\n",
            "True\n"
          ]
        }
      ]
    },
    {
      "cell_type": "markdown",
      "source": [
        "# if-else statement\n"
      ],
      "metadata": {
        "id": "ccKi0nMSIOhs"
      }
    },
    {
      "cell_type": "code",
      "source": [
        "a = 30\n",
        "b = 50\n",
        "if(a>b):\n",
        "    print(\"a is the greatest\")\n",
        "\n",
        "else:\n",
        "    print(\"b is the greatest\")\n"
      ],
      "metadata": {
        "colab": {
          "base_uri": "https://localhost:8080/"
        },
        "id": "cNeV4LuFIR6R",
        "outputId": "d07b03fa-b448-465d-f0e9-d40440980e9b"
      },
      "execution_count": 11,
      "outputs": [
        {
          "output_type": "stream",
          "name": "stdout",
          "text": [
            "b is the greatest\n"
          ]
        }
      ]
    },
    {
      "cell_type": "code",
      "source": [
        "a = int(input(\"enter the first number: \"))\n",
        "b = int(input(\"enter the second number: \"))\n",
        "if(a>b):\n",
        "    print(\"first number is greater\")\n",
        "elif(b>a):\n",
        "    print(\"second number is greater\")"
      ],
      "metadata": {
        "colab": {
          "base_uri": "https://localhost:8080/"
        },
        "id": "wNop_TGHIiwp",
        "outputId": "4076bc24-de52-4598-c2ab-15cc8e1ac1a0"
      },
      "execution_count": 12,
      "outputs": [
        {
          "output_type": "stream",
          "name": "stdout",
          "text": [
            "enter the first number: 23\n",
            "enter the second number: 45\n",
            "second number is greater\n"
          ]
        }
      ]
    },
    {
      "cell_type": "markdown",
      "source": [
        "# else if"
      ],
      "metadata": {
        "id": "PTqxBuJ1LAa2"
      }
    },
    {
      "cell_type": "code",
      "source": [
        "a = int(input(\"enter first number: \"))\n",
        "b = int(input(\"enter second number: \"))\n",
        "c= int(input(\"enter third number: \"))\n",
        "if(b<a>c):\n",
        "    print(\"first number is greater\")\n",
        "elif(a<b>c):\n",
        "  print(\"second numberis greater\")\n",
        "else:\n",
        "      print(\"third number is greater\")\n"
      ],
      "metadata": {
        "colab": {
          "base_uri": "https://localhost:8080/"
        },
        "id": "A3EykrySLB0n",
        "outputId": "702eb84e-e010-4991-80d6-eded870f4754"
      },
      "execution_count": 13,
      "outputs": [
        {
          "output_type": "stream",
          "name": "stdout",
          "text": [
            "enter first number: 34\n",
            "enter second number: 56\n",
            "enter third number: 23\n",
            "second numberis greater\n"
          ]
        }
      ]
    },
    {
      "cell_type": "markdown",
      "source": [
        "# nested if-else"
      ],
      "metadata": {
        "id": "7KCKSg6YMcP8"
      }
    },
    {
      "cell_type": "markdown",
      "source": [],
      "metadata": {
        "id": "J4_bBQGDMcKU"
      }
    },
    {
      "cell_type": "code",
      "source": [
        "a = int(input(\"enter first number: \"))\n",
        "b = int(input(\"enter second number\"))\n",
        "c = int(input(\"enter third number: \"))\n",
        "\n",
        "if(a>b):\n",
        "  if(a>c):\n",
        "    print(\"first number is greater\")\n",
        "  else:\n",
        "    print(\"third number is greater\")\n",
        "else:\n",
        "  if(b>c):\n",
        "    print(\"second number is greater\")\n",
        "  else:\n",
        "    print(\"third number is greater\")"
      ],
      "metadata": {
        "colab": {
          "base_uri": "https://localhost:8080/"
        },
        "id": "MyjCNQc0Ms8S",
        "outputId": "daf45d44-f5af-4d81-c6ac-1a8ba4173103"
      },
      "execution_count": 14,
      "outputs": [
        {
          "output_type": "stream",
          "name": "stdout",
          "text": [
            "enter first number: 45\n",
            "enter second number67\n",
            "enter third number: 145\n",
            "third number is greater\n"
          ]
        }
      ]
    },
    {
      "cell_type": "markdown",
      "source": [
        "# loops -> for loops or while loops"
      ],
      "metadata": {
        "id": "PEDzjHV6OKKd"
      }
    },
    {
      "cell_type": "code",
      "source": [
        "laptop = int(input(\"what is price for laptop: \"))\n",
        "# what if yu want to ask above q to 5 person\n",
        "for i in range(5):\n",
        "  laptop = int(input(\"what is price for laptop: \"))"
      ],
      "metadata": {
        "colab": {
          "base_uri": "https://localhost:8080/"
        },
        "id": "nxacdsN5OOSu",
        "outputId": "ebfa5a04-2f6c-4bf7-85fb-02523b73637f"
      },
      "execution_count": 15,
      "outputs": [
        {
          "name": "stdout",
          "output_type": "stream",
          "text": [
            "what is price for laptop: 200000\n",
            "what is price for laptop: 2\n",
            "what is price for laptop: 2\n",
            "what is price for laptop: 3\n",
            "what is price for laptop: 4\n",
            "what is price for laptop: 5\n"
          ]
        }
      ]
    },
    {
      "cell_type": "code",
      "source": [
        "numbers = [50,100,150,200]\n",
        "print(numbers)\n",
        " # without loop\n",
        "\n",
        "for i in numbers:\n",
        "   print(i)"
      ],
      "metadata": {
        "colab": {
          "base_uri": "https://localhost:8080/"
        },
        "id": "28DTOqQ5PVZW",
        "outputId": "c79f40a0-ae70-40a9-e280-4c800c73b114"
      },
      "execution_count": 18,
      "outputs": [
        {
          "output_type": "stream",
          "name": "stdout",
          "text": [
            "[50, 100, 150, 200]\n",
            "50\n",
            "100\n",
            "150\n",
            "200\n"
          ]
        }
      ]
    },
    {
      "cell_type": "markdown",
      "source": [
        "# While loop\n"
      ],
      "metadata": {
        "id": "ApEdN3urQMav"
      }
    },
    {
      "cell_type": "code",
      "source": [
        "i = 0;\n",
        "while(i<10):\n",
        "  print(i)\n",
        "  i += 1\n"
      ],
      "metadata": {
        "colab": {
          "base_uri": "https://localhost:8080/"
        },
        "id": "4D2MK1k0QOhd",
        "outputId": "3abfe4fc-05a1-40d4-966a-816fca859211"
      },
      "execution_count": 20,
      "outputs": [
        {
          "output_type": "stream",
          "name": "stdout",
          "text": [
            "0\n",
            "1\n",
            "2\n",
            "3\n",
            "4\n",
            "5\n",
            "6\n",
            "7\n",
            "8\n",
            "9\n"
          ]
        }
      ]
    },
    {
      "cell_type": "code",
      "source": [],
      "metadata": {
        "id": "f40PNV8qRS7s"
      },
      "execution_count": null,
      "outputs": []
    },
    {
      "cell_type": "code",
      "source": [],
      "metadata": {
        "id": "n_6PFMHARSqF"
      },
      "execution_count": null,
      "outputs": []
    },
    {
      "cell_type": "code",
      "source": [],
      "metadata": {
        "id": "E5noN30dRR71"
      },
      "execution_count": null,
      "outputs": []
    },
    {
      "cell_type": "code",
      "source": [
        "i = 1\n",
        "\n",
        "while(i<5):\n",
        "  print(i)\n",
        "  i += 1"
      ],
      "metadata": {
        "colab": {
          "base_uri": "https://localhost:8080/"
        },
        "id": "-WPNNqAVRKxc",
        "outputId": "5722763d-c319-48f9-ed43-f6154ec6f12d"
      },
      "execution_count": 1,
      "outputs": [
        {
          "output_type": "stream",
          "name": "stdout",
          "text": [
            "1\n",
            "2\n",
            "3\n",
            "4\n"
          ]
        }
      ]
    },
    {
      "cell_type": "code",
      "source": [
        "list_1 = [20,40,20,1]\n",
        "for i in list_1:\n",
        "  print(i)\n"
      ],
      "metadata": {
        "colab": {
          "base_uri": "https://localhost:8080/"
        },
        "id": "YG5N8pOoyU_4",
        "outputId": "6f23c4f5-443f-4ca2-e9cc-fda2d0a5f330"
      },
      "execution_count": 4,
      "outputs": [
        {
          "output_type": "stream",
          "name": "stdout",
          "text": [
            "20\n",
            "40\n",
            "20\n",
            "1\n"
          ]
        }
      ]
    },
    {
      "cell_type": "code",
      "source": [
        "name = input(\"enter your name: \")\n",
        "for i in name:\n",
        "  print(i)"
      ],
      "metadata": {
        "colab": {
          "base_uri": "https://localhost:8080/"
        },
        "id": "Ybp33ilczwHz",
        "outputId": "98a062ea-ff45-4cce-9089-d9b706ed5f5d"
      },
      "execution_count": 5,
      "outputs": [
        {
          "output_type": "stream",
          "name": "stdout",
          "text": [
            "enter your name: shivam\n",
            "s\n",
            "h\n",
            "i\n",
            "v\n",
            "a\n",
            "m\n"
          ]
        }
      ]
    },
    {
      "cell_type": "markdown",
      "source": [
        "# Functions :- A block of code can be used in a program"
      ],
      "metadata": {
        "id": "Ru1ONjY-0o40"
      }
    },
    {
      "cell_type": "code",
      "source": [
        "# Factorial of a number\n",
        "\n",
        "number = int(input(\"enter a number: \"))\n",
        "factorial = 1\n",
        "if(number == 0):\n",
        "  print(\"factorial of 0 is 1\")\n",
        "else:\n",
        "  for i in range(1,number+1):\n",
        "    factorial = factorial * i\n",
        "  print(\"factorial of\",number,\"is\",factorial)"
      ],
      "metadata": {
        "colab": {
          "base_uri": "https://localhost:8080/"
        },
        "id": "7ypO9fkC0vLX",
        "outputId": "34d7a085-a2b5-493b-969e-58676b86219e"
      },
      "execution_count": 10,
      "outputs": [
        {
          "output_type": "stream",
          "name": "stdout",
          "text": [
            "enter a number: 6\n",
            "factorial of 6 is 720\n"
          ]
        }
      ]
    },
    {
      "cell_type": "markdown",
      "source": [
        "# factorial function\n",
        "\n",
        "\n"
      ],
      "metadata": {
        "id": "G5n6H9G43WJb"
      }
    },
    {
      "cell_type": "code",
      "source": [
        "def Factorial_val(num):\n",
        "  factorial = 1\n",
        "  if(num == 0):\n",
        "     return factorial\n",
        "  else:\n",
        "      for i in range(1,num+1):\n",
        "         factorial = factorial * i\n",
        "      return factorial"
      ],
      "metadata": {
        "id": "55Y1PDHO3lpc"
      },
      "execution_count": 16,
      "outputs": []
    },
    {
      "cell_type": "code",
      "source": [
        "print(Factorial_val(5))\n"
      ],
      "metadata": {
        "colab": {
          "base_uri": "https://localhost:8080/"
        },
        "id": "fJrLNpBb4cUi",
        "outputId": "61c08f02-1b88-4b6a-a747-0312b3aa7dad"
      },
      "execution_count": 17,
      "outputs": [
        {
          "output_type": "stream",
          "name": "stdout",
          "text": [
            "120\n"
          ]
        }
      ]
    },
    {
      "cell_type": "code",
      "source": [],
      "metadata": {
        "id": "t5s_rfjw44Gz"
      },
      "execution_count": null,
      "outputs": []
    }
  ]
}