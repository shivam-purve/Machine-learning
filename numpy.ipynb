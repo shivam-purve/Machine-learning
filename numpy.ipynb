{
  "nbformat": 4,
  "nbformat_minor": 0,
  "metadata": {
    "colab": {
      "provenance": [],
      "authorship_tag": "ABX9TyOcSUWWNpBNtQS5gjc/XrtR",
      "include_colab_link": true
    },
    "kernelspec": {
      "name": "python3",
      "display_name": "Python 3"
    },
    "language_info": {
      "name": "python"
    }
  },
  "cells": [
    {
      "cell_type": "markdown",
      "metadata": {
        "id": "view-in-github",
        "colab_type": "text"
      },
      "source": [
        "<a href=\"https://colab.research.google.com/github/shivam-purve/Machine-learning/blob/main/numpy.ipynb\" target=\"_parent\"><img src=\"https://colab.research.google.com/assets/colab-badge.svg\" alt=\"Open In Colab\"/></a>"
      ]
    },
    {
      "cell_type": "code",
      "source": [
        "import numpy as np"
      ],
      "metadata": {
        "id": "JLhTXjC7ArHa"
      },
      "execution_count": 6,
      "outputs": []
    },
    {
      "cell_type": "code",
      "source": [
        "# list v/s numpy -time taken\n",
        "\n",
        "from time import process_time"
      ],
      "metadata": {
        "id": "pRjjHJOrBUAO"
      },
      "execution_count": 3,
      "outputs": []
    },
    {
      "cell_type": "code",
      "source": [
        "# time calculated for python_list to insert and modify the value\n",
        "python_list = [i for i in range(10000)]\n",
        "start_time = process_time()\n",
        "python_list = [i+5 for i in python_list]\n",
        "end_time = process_time()\n",
        "print(end_time - start_time)"
      ],
      "metadata": {
        "colab": {
          "base_uri": "https://localhost:8080/"
        },
        "id": "RZB_CO0L_Zob",
        "outputId": "000eb7f5-e5f0-485d-d1b5-6c034b4f108b"
      },
      "execution_count": 4,
      "outputs": [
        {
          "output_type": "stream",
          "name": "stdout",
          "text": [
            "0.0007101079999998205\n"
          ]
        }
      ]
    },
    {
      "cell_type": "code",
      "source": [
        "# see time for numpy array\n",
        "np_array = np.array([i for i in range(10000)])\n",
        "start_time = process_time()\n",
        "np_array += 5 # adds value 5 to all eleemnts to arrya\n",
        "end_time = process_time()\n",
        "print(end_time - start_time)"
      ],
      "metadata": {
        "colab": {
          "base_uri": "https://localhost:8080/"
        },
        "id": "OTNB9LoUA0S4",
        "outputId": "2dc42f08-ae81-4589-cf71-9d5936b80a7d"
      },
      "execution_count": 7,
      "outputs": [
        {
          "output_type": "stream",
          "name": "stdout",
          "text": [
            "0.00017477300000035\n"
          ]
        }
      ]
    },
    {
      "cell_type": "markdown",
      "source": [
        "# Numpy Arrays"
      ],
      "metadata": {
        "id": "CrO6MwLrB--R"
      }
    },
    {
      "cell_type": "code",
      "source": [
        "# list\n",
        "list1 = [i for i in range(1,6)]\n",
        "print(list1)\n",
        "type(list1)"
      ],
      "metadata": {
        "colab": {
          "base_uri": "https://localhost:8080/"
        },
        "id": "8I2JpSrWCBYz",
        "outputId": "f2fafe53-4477-4bf0-88d9-11b57df6c4c2"
      },
      "execution_count": 8,
      "outputs": [
        {
          "output_type": "stream",
          "name": "stdout",
          "text": [
            "[1, 2, 3, 4, 5]\n"
          ]
        },
        {
          "output_type": "execute_result",
          "data": {
            "text/plain": [
              "list"
            ]
          },
          "metadata": {},
          "execution_count": 8
        }
      ]
    },
    {
      "cell_type": "code",
      "source": [
        "# Numpy Array\n",
        "np_array = np.array([i for i in range(1,6)])\n",
        "print(np_array)\n",
        "type(np_array)\n"
      ],
      "metadata": {
        "colab": {
          "base_uri": "https://localhost:8080/"
        },
        "id": "qAx4yLKtCTeL",
        "outputId": "bab21e01-c23b-497e-9449-aca1c029efad"
      },
      "execution_count": 9,
      "outputs": [
        {
          "output_type": "stream",
          "name": "stdout",
          "text": [
            "[1 2 3 4 5]\n"
          ]
        },
        {
          "output_type": "execute_result",
          "data": {
            "text/plain": [
              "numpy.ndarray"
            ]
          },
          "metadata": {},
          "execution_count": 9
        }
      ]
    },
    {
      "cell_type": "code",
      "source": [
        "# Creating one-D Numby Array\n",
        "a = np.array([1,2,3,4,5])\n",
        "print(a)\n",
        "a.shape\n",
        "\n",
        "\n"
      ],
      "metadata": {
        "colab": {
          "base_uri": "https://localhost:8080/"
        },
        "id": "JUl85TV8DQsy",
        "outputId": "d28ac112-c47a-4993-e498-0ade709d952b"
      },
      "execution_count": 11,
      "outputs": [
        {
          "output_type": "stream",
          "name": "stdout",
          "text": [
            "[1 2 3 4 5]\n"
          ]
        },
        {
          "output_type": "execute_result",
          "data": {
            "text/plain": [
              "(5,)"
            ]
          },
          "metadata": {},
          "execution_count": 11
        }
      ]
    },
    {
      "cell_type": "code",
      "source": [
        "# Creating 2-D Array\n",
        "b = np.array([[1,2,3,4],[5,6,7,8]])\n",
        "print(b)\n",
        "b.shape"
      ],
      "metadata": {
        "colab": {
          "base_uri": "https://localhost:8080/"
        },
        "id": "5yxAiybnEIh1",
        "outputId": "823cffb0-26d1-406a-8737-e33c4839a183"
      },
      "execution_count": 12,
      "outputs": [
        {
          "output_type": "stream",
          "name": "stdout",
          "text": [
            "[[1 2 3 4]\n",
            " [5 6 7 8]]\n"
          ]
        },
        {
          "output_type": "execute_result",
          "data": {
            "text/plain": [
              "(2, 4)"
            ]
          },
          "metadata": {},
          "execution_count": 12
        }
      ]
    },
    {
      "cell_type": "code",
      "source": [
        "c = np.array([[1,2,3,4],[5,6,7,8]],dtype = float)\n",
        "print(c)\n",
        "c.shape"
      ],
      "metadata": {
        "colab": {
          "base_uri": "https://localhost:8080/"
        },
        "id": "DeuaJi1bHLI_",
        "outputId": "65446648-1046-4237-d007-594784d21668"
      },
      "execution_count": 15,
      "outputs": [
        {
          "output_type": "stream",
          "name": "stdout",
          "text": [
            "[[1. 2. 3. 4.]\n",
            " [5. 6. 7. 8.]]\n"
          ]
        },
        {
          "output_type": "execute_result",
          "data": {
            "text/plain": [
              "(2, 4)"
            ]
          },
          "metadata": {},
          "execution_count": 15
        }
      ]
    },
    {
      "cell_type": "markdown",
      "source": [
        "# Placeholders in numpy array"
      ],
      "metadata": {
        "id": "KKhteT1dIQnT"
      }
    },
    {
      "cell_type": "code",
      "source": [
        "# creating numpy array with all entries as zero\n",
        "x = np.zeros((4,5))\n",
        "print(x)\n"
      ],
      "metadata": {
        "colab": {
          "base_uri": "https://localhost:8080/"
        },
        "id": "yha1FNv6ITav",
        "outputId": "a8ff3f82-e449-46fc-fb42-ec3488dbbf46"
      },
      "execution_count": 16,
      "outputs": [
        {
          "output_type": "stream",
          "name": "stdout",
          "text": [
            "[[0. 0. 0. 0. 0.]\n",
            " [0. 0. 0. 0. 0.]\n",
            " [0. 0. 0. 0. 0.]\n",
            " [0. 0. 0. 0. 0.]]\n"
          ]
        }
      ]
    },
    {
      "cell_type": "code",
      "source": [
        "# creating nupy array with all entries as 1\n",
        "y = np.ones((3,3))\n",
        "print(y)"
      ],
      "metadata": {
        "colab": {
          "base_uri": "https://localhost:8080/"
        },
        "id": "zcfty6MyLGSr",
        "outputId": "902fccf3-1cdd-4e78-af3c-d65b77ec60a3"
      },
      "execution_count": 17,
      "outputs": [
        {
          "output_type": "stream",
          "name": "stdout",
          "text": [
            "[[1. 1. 1.]\n",
            " [1. 1. 1.]\n",
            " [1. 1. 1.]]\n"
          ]
        }
      ]
    },
    {
      "cell_type": "code",
      "source": [
        "# creating an array with one specific value\n",
        "z = np.full((5,4),3)\n",
        "print(z)"
      ],
      "metadata": {
        "colab": {
          "base_uri": "https://localhost:8080/"
        },
        "id": "qSR0zwJxLQEp",
        "outputId": "dcebd00f-2223-46b4-a09d-cb2e6547da58"
      },
      "execution_count": 19,
      "outputs": [
        {
          "output_type": "stream",
          "name": "stdout",
          "text": [
            "[[3 3 3 3]\n",
            " [3 3 3 3]\n",
            " [3 3 3 3]\n",
            " [3 3 3 3]\n",
            " [3 3 3 3]]\n"
          ]
        }
      ]
    },
    {
      "cell_type": "code",
      "source": [
        "# creating an identity matrix\n",
        "\n",
        "a = np.eye(4) #identity matrix of 4x4 as identity matric always been acts as square matrix\n",
        "print(a)\n"
      ],
      "metadata": {
        "colab": {
          "base_uri": "https://localhost:8080/"
        },
        "id": "-SY3-sYtLrdD",
        "outputId": "7885598e-1c2a-4f8f-9b58-b84fbbfb65ca"
      },
      "execution_count": 20,
      "outputs": [
        {
          "output_type": "stream",
          "name": "stdout",
          "text": [
            "[[1. 0. 0. 0.]\n",
            " [0. 1. 0. 0.]\n",
            " [0. 0. 1. 0.]\n",
            " [0. 0. 0. 1.]]\n"
          ]
        }
      ]
    },
    {
      "cell_type": "code",
      "source": [
        "# creat a numpy array with random values\n",
        "\n",
        "b = np.random.random((3,4))\n",
        "print(b)"
      ],
      "metadata": {
        "colab": {
          "base_uri": "https://localhost:8080/"
        },
        "id": "7XBEl7uyOXeY",
        "outputId": "b447068e-bd28-4bf9-eb87-d82546a9c77a"
      },
      "execution_count": 21,
      "outputs": [
        {
          "output_type": "stream",
          "name": "stdout",
          "text": [
            "[[0.13675015 0.82679514 0.84679518 0.79571013]\n",
            " [0.07413561 0.10512524 0.09805614 0.92388791]\n",
            " [0.58446687 0.15785284 0.17284129 0.52752107]]\n"
          ]
        }
      ]
    },
    {
      "cell_type": "code",
      "source": [],
      "metadata": {
        "id": "tyC4uc4sOlWL"
      },
      "execution_count": null,
      "outputs": []
    },
    {
      "cell_type": "code",
      "source": [
        "# random numpy array with rabdom between specified range as integer\n",
        "c = np.random.randint(10,100,(3,5))\n",
        "print(c)"
      ],
      "metadata": {
        "colab": {
          "base_uri": "https://localhost:8080/"
        },
        "id": "nNN1NehFOgrn",
        "outputId": "024110e6-063e-4250-f7b6-78fb0a65b3c1"
      },
      "execution_count": 25,
      "outputs": [
        {
          "output_type": "stream",
          "name": "stdout",
          "text": [
            "[[20 28 12 92 12]\n",
            " [24 79 63 54 99]\n",
            " [94 62 91 34 36]]\n"
          ]
        }
      ]
    },
    {
      "cell_type": "code",
      "source": [
        "# create random array with evenly spaced values specifying number of values needed\n",
        "d = np.linspace(10,30,5)  # here 5 is size of array\n",
        "print(d)"
      ],
      "metadata": {
        "colab": {
          "base_uri": "https://localhost:8080/"
        },
        "id": "sJ33HejRPe1f",
        "outputId": "99fdd950-9793-43e0-fdad-e9e475d3d5c1"
      },
      "execution_count": 26,
      "outputs": [
        {
          "output_type": "stream",
          "name": "stdout",
          "text": [
            "[10. 15. 20. 25. 30.]\n"
          ]
        }
      ]
    },
    {
      "cell_type": "code",
      "source": [],
      "metadata": {
        "id": "r3GxjLpsQYLF"
      },
      "execution_count": null,
      "outputs": []
    },
    {
      "cell_type": "code",
      "source": [
        "# array of evenly spaced values specifying the step\n",
        "e = np.arange(10,30,5)  # give random values from 10 to 30 having step size as 5\n",
        "print(e)"
      ],
      "metadata": {
        "colab": {
          "base_uri": "https://localhost:8080/"
        },
        "id": "TbG75ecPQP4y",
        "outputId": "60922b9e-dba2-4cde-b912-8187a541b98c"
      },
      "execution_count": 27,
      "outputs": [
        {
          "output_type": "stream",
          "name": "stdout",
          "text": [
            "[10 15 20 25]\n"
          ]
        }
      ]
    },
    {
      "cell_type": "code",
      "source": [
        "# convert a list to numpy arrays\n",
        "list_2 = [10,20,20,20,50]\n",
        "np_array = np.asarray(list_2)\n",
        "print(np_array)\n",
        "type(np_array)"
      ],
      "metadata": {
        "colab": {
          "base_uri": "https://localhost:8080/"
        },
        "id": "1ivJI1qRT2Ju",
        "outputId": "e6a1133d-3f6b-4cd2-dc3d-7d4803bdf389"
      },
      "execution_count": 28,
      "outputs": [
        {
          "output_type": "stream",
          "name": "stdout",
          "text": [
            "[10 20 20 20 50]\n"
          ]
        },
        {
          "output_type": "execute_result",
          "data": {
            "text/plain": [
              "numpy.ndarray"
            ]
          },
          "metadata": {},
          "execution_count": 28
        }
      ]
    },
    {
      "cell_type": "markdown",
      "source": [
        "# analysing numpy arrays"
      ],
      "metadata": {
        "id": "z_ZhahuUU83C"
      }
    },
    {
      "cell_type": "code",
      "source": [
        "c = np.random.randint(10,30,(5,5))\n",
        "print(c)"
      ],
      "metadata": {
        "colab": {
          "base_uri": "https://localhost:8080/"
        },
        "id": "PkU7kWwOWLAo",
        "outputId": "732c1c37-67ef-4f6e-9f2e-7f115926c0bb"
      },
      "execution_count": 29,
      "outputs": [
        {
          "output_type": "stream",
          "name": "stdout",
          "text": [
            "[[20 11 14 13 24]\n",
            " [27 29 15 11 19]\n",
            " [17 27 25 22 12]\n",
            " [20 16 23 28 22]\n",
            " [18 16 25 17 18]]\n"
          ]
        }
      ]
    },
    {
      "cell_type": "code",
      "source": [
        "print(c.shape)"
      ],
      "metadata": {
        "colab": {
          "base_uri": "https://localhost:8080/"
        },
        "id": "Qa3xfizgXyXY",
        "outputId": "7a12a2a7-2732-4f6e-d225-073c87085522"
      },
      "execution_count": 30,
      "outputs": [
        {
          "output_type": "stream",
          "name": "stdout",
          "text": [
            "(5, 5)\n"
          ]
        }
      ]
    },
    {
      "cell_type": "code",
      "source": [
        "# printing dimension\n",
        "print(c.ndim)"
      ],
      "metadata": {
        "colab": {
          "base_uri": "https://localhost:8080/"
        },
        "id": "nAFw-DTGX11c",
        "outputId": "8fe3ba86-7702-4e32-83a4-c9abf03e5ea8"
      },
      "execution_count": 31,
      "outputs": [
        {
          "output_type": "stream",
          "name": "stdout",
          "text": [
            "2\n"
          ]
        }
      ]
    },
    {
      "cell_type": "code",
      "source": [
        "# printing number of elemnts\n",
        "print(c.size)"
      ],
      "metadata": {
        "colab": {
          "base_uri": "https://localhost:8080/"
        },
        "id": "tUuQrzMcYvYN",
        "outputId": "9e9b62cc-6561-44df-a7f3-8a415f66434c"
      },
      "execution_count": 32,
      "outputs": [
        {
          "output_type": "stream",
          "name": "stdout",
          "text": [
            "25\n"
          ]
        }
      ]
    },
    {
      "cell_type": "code",
      "source": [
        "# checking the data type of values in array\n",
        "print(c.dtype)"
      ],
      "metadata": {
        "colab": {
          "base_uri": "https://localhost:8080/"
        },
        "id": "0g02lkL-ZClS",
        "outputId": "9b6a21db-9037-4bf1-abbb-108c925f3348"
      },
      "execution_count": 33,
      "outputs": [
        {
          "output_type": "stream",
          "name": "stdout",
          "text": [
            "int64\n"
          ]
        }
      ]
    },
    {
      "cell_type": "markdown",
      "source": [
        "# Mathematical operation on numpy Arrays"
      ],
      "metadata": {
        "id": "vOBxSKpiZPG-"
      }
    },
    {
      "cell_type": "code",
      "source": [
        "list1 = [1,2,3,4]\n",
        "list2 = [5,6,7,8,9,10]\n",
        "print(list1 + list2) # actually this add list not an elements of respective list that concatenate just\n",
        "\n",
        "\n",
        "\n",
        "\n",
        "\n",
        "\n",
        "\n"
      ],
      "metadata": {
        "colab": {
          "base_uri": "https://localhost:8080/"
        },
        "id": "Ubk7BfTPZS69",
        "outputId": "94134503-ad13-4836-d2b4-d0bdcaebea7c"
      },
      "execution_count": 35,
      "outputs": [
        {
          "output_type": "stream",
          "name": "stdout",
          "text": [
            "[1, 2, 3, 4, 5, 6, 7, 8, 9, 10]\n"
          ]
        }
      ]
    },
    {
      "cell_type": "code",
      "source": [
        "# adding numpy Arrays as their valuewise\n",
        "a = np.random.randint(0,10,(3,3))\n",
        "b = np.random.randint(10,20,(3,3))\n",
        "print(a)\n",
        "print(b)\n",
        "# finding algebra of respective element on different numpy array\n",
        "print(a+b)\n",
        "print(a-b)\n",
        "print(a*b)\n",
        "print(a/b)\n"
      ],
      "metadata": {
        "colab": {
          "base_uri": "https://localhost:8080/"
        },
        "id": "ycmK0owKaj1C",
        "outputId": "9edf533c-27a7-454e-ed59-c90ed88e94a1"
      },
      "execution_count": 36,
      "outputs": [
        {
          "output_type": "stream",
          "name": "stdout",
          "text": [
            "[[5 0 3]\n",
            " [8 7 5]\n",
            " [2 5 8]]\n",
            "[[11 12 12]\n",
            " [10 15 17]\n",
            " [12 16 17]]\n",
            "[[16 12 15]\n",
            " [18 22 22]\n",
            " [14 21 25]]\n",
            "[[ -6 -12  -9]\n",
            " [ -2  -8 -12]\n",
            " [-10 -11  -9]]\n",
            "[[ 55   0  36]\n",
            " [ 80 105  85]\n",
            " [ 24  80 136]]\n",
            "[[0.45454545 0.         0.25      ]\n",
            " [0.8        0.46666667 0.29411765]\n",
            " [0.16666667 0.3125     0.47058824]]\n"
          ]
        }
      ]
    },
    {
      "cell_type": "code",
      "source": [
        "# immplementing those operations with inbuilt fuctions\n",
        "a = np.random.randint(0,10,(3,3))\n",
        "b = np.random.randint(10,20,(3,3))\n",
        "\n",
        "print(np.add(a,b))\n",
        "print(np.subtract(a,b))\n",
        "print(np.multiply(a,b))\n",
        "print(np.divide(a,b))"
      ],
      "metadata": {
        "colab": {
          "base_uri": "https://localhost:8080/"
        },
        "id": "eGFy-PM3ceDp",
        "outputId": "e3bf096f-d2a7-4b11-d5a8-0513080e2360"
      },
      "execution_count": 37,
      "outputs": [
        {
          "output_type": "stream",
          "name": "stdout",
          "text": [
            "[[18 17 17]\n",
            " [13 13 28]\n",
            " [25 24 18]]\n",
            "[[-14  -9  -9]\n",
            " [ -9 -13 -10]\n",
            " [-13 -14 -10]]\n",
            "[[ 32  52  52]\n",
            " [ 22   0 171]\n",
            " [114  95  56]]\n",
            "[[0.125      0.30769231 0.30769231]\n",
            " [0.18181818 0.         0.47368421]\n",
            " [0.31578947 0.26315789 0.28571429]]\n"
          ]
        }
      ]
    },
    {
      "cell_type": "code",
      "source": [
        "# array manipuation\n",
        "array = np.random.randint(0,10,(2,3))\n",
        "print(array)\n",
        "print(array.shape)\n",
        "trans = np.transpose(array)\n",
        "print(trans)\n",
        "print(trans.shape)"
      ],
      "metadata": {
        "colab": {
          "base_uri": "https://localhost:8080/"
        },
        "id": "j_Av2sPddjqa",
        "outputId": "c37077ab-52a4-403a-93bd-4000414d8c0f"
      },
      "execution_count": 38,
      "outputs": [
        {
          "output_type": "stream",
          "name": "stdout",
          "text": [
            "[[8 4 2]\n",
            " [2 8 1]]\n",
            "(2, 3)\n",
            "[[8 2]\n",
            " [4 8]\n",
            " [2 1]]\n",
            "(3, 2)\n"
          ]
        }
      ]
    },
    {
      "cell_type": "code",
      "source": [
        "#Another method to find transpose\n",
        "trans2 = array.T # will find transpose\n",
        "print(trans2)\n",
        "print(trans2.shape)"
      ],
      "metadata": {
        "colab": {
          "base_uri": "https://localhost:8080/"
        },
        "id": "rJN2E8xkeM4K",
        "outputId": "5a55db4d-f4d3-4376-b550-32c886c14d1e"
      },
      "execution_count": 39,
      "outputs": [
        {
          "output_type": "stream",
          "name": "stdout",
          "text": [
            "[[8 2]\n",
            " [4 8]\n",
            " [2 1]]\n",
            "(3, 2)\n"
          ]
        }
      ]
    },
    {
      "cell_type": "code",
      "source": [
        "# numpy array reshaping\n",
        "\n",
        "a = np.random.randint(0,10,(2,3))\n",
        "print(a)\n",
        "print(a.shape)"
      ],
      "metadata": {
        "colab": {
          "base_uri": "https://localhost:8080/"
        },
        "id": "RuwATIHdgts3",
        "outputId": "48d87a3f-7c58-4c48-856d-0285d006b49d"
      },
      "execution_count": 40,
      "outputs": [
        {
          "output_type": "stream",
          "name": "stdout",
          "text": [
            "[[2 6 9]\n",
            " [9 8 5]]\n",
            "(2, 3)\n"
          ]
        }
      ]
    },
    {
      "cell_type": "code",
      "source": [
        "b = a.reshape(3,2)\n",
        "print(b)\n",
        "print(b.shape)"
      ],
      "metadata": {
        "colab": {
          "base_uri": "https://localhost:8080/"
        },
        "id": "t4Bcoe0cgzSR",
        "outputId": "6204c9f7-f934-483d-e2e9-ac3d0e74f267"
      },
      "execution_count": 41,
      "outputs": [
        {
          "output_type": "stream",
          "name": "stdout",
          "text": [
            "[[2 6]\n",
            " [9 9]\n",
            " [8 5]]\n",
            "(3, 2)\n"
          ]
        }
      ]
    }
  ]
}